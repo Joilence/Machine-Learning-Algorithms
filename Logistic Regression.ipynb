{
 "cells": [
  {
   "cell_type": "code",
   "execution_count": 1,
   "metadata": {
    "ExecuteTime": {
     "end_time": "2018-07-11T01:32:17.071834Z",
     "start_time": "2018-07-11T01:32:16.245325Z"
    }
   },
   "outputs": [],
   "source": [
    "import numpy as np\n",
    "import matplotlib.pyplot as plt\n",
    "from sklearn import datasets"
   ]
  },
  {
   "cell_type": "markdown",
   "metadata": {},
   "source": [
    "Logistic Function | 逻辑函数\n",
    "\n",
    "$h_\\theta(x) = g(\\theta^Tx)$\n",
    "\n",
    "$z = \\theta^Tx$\n",
    "\n",
    "$g(z) = \\frac{1}{1+e^{-z}}$"
   ]
  },
  {
   "cell_type": "code",
   "execution_count": 17,
   "metadata": {
    "ExecuteTime": {
     "end_time": "2018-07-10T01:17:32.282105Z",
     "start_time": "2018-07-10T01:17:32.132533Z"
    }
   },
   "outputs": [
    {
     "data": {
      "text/plain": [
       "[<matplotlib.lines.Line2D at 0x119d6d9b0>]"
      ]
     },
     "execution_count": 17,
     "metadata": {},
     "output_type": "execute_result"
    },
    {
     "data": {
      "image/png": "[encoded data removed]",
      "text/plain": [
       "<Figure size 432x288 with 1 Axes>"
      ]
     },
     "metadata": {},
     "output_type": "display_data"
    }
   ],
   "source": [
    "x = np.arange(0.01, 1, 0.01)\n",
    "y = np.log(x/(1-x))\n",
    "plt.plot(y, x)"
   ]
  },
  {
   "cell_type": "code",
   "execution_count": 2,
   "metadata": {
    "ExecuteTime": {
     "end_time": "2018-07-10T00:45:56.218489Z",
     "start_time": "2018-07-10T00:45:56.214440Z"
    }
   },
   "outputs": [],
   "source": [
    "def sigmoid(z):\n",
    "    return 1 / (1 + np.exp(-z))"
   ]
  },
  {
   "cell_type": "markdown",
   "metadata": {},
   "source": [
    "Loss Function | 损失函数\n",
    "\n",
    "$h = g(X\\theta)$\n",
    "\n",
    "$J(\\theta) = \\frac{1}{m} \\cdot (-y^T\\log(h)-(1-y)^T\\log(1-h))$"
   ]
  },
  {
   "cell_type": "code",
   "execution_count": 5,
   "metadata": {
    "ExecuteTime": {
     "end_time": "2018-07-10T01:01:06.671182Z",
     "start_time": "2018-07-10T01:01:06.668043Z"
    }
   },
   "outputs": [],
   "source": [
    "def loss(h, y):\n",
    "    return (-y * np.log(h) - (1 - y) * np.log(1 - h)).mean()"
   ]
  },
  {
   "cell_type": "markdown",
   "metadata": {},
   "source": [
    "Gradient Descent | 梯度下降\n",
    "\n",
    "$\\frac{\\delta J(\\theta)}{\\delta\\theta_j} = \\frac{1}{m}X^T(g(X\\theta)-y)$"
   ]
  },
  {
   "cell_type": "code",
   "execution_count": 6,
   "metadata": {
    "ExecuteTime": {
     "end_time": "2018-07-10T01:03:50.590643Z",
     "start_time": "2018-07-10T01:03:50.586557Z"
    }
   },
   "outputs": [],
   "source": [
    "def gradient(X, y, h):\n",
    "    return np.dot(X.T, (h - y)) / y.shape[0]"
   ]
  },
  {
   "cell_type": "code",
   "execution_count": 23,
   "metadata": {
    "ExecuteTime": {
     "end_time": "2018-07-11T02:20:56.408126Z",
     "start_time": "2018-07-11T02:20:56.399307Z"
    }
   },
   "outputs": [],
   "source": [
    "class LogisticRegression:\n",
    "    def __init__(self, lr=0.01, num_iter=100000, fit_intercept=True, verbose=False):\n",
    "        self.lr = lr\n",
    "        self.num_iter = num_iter\n",
    "        self.fit_intercept = fit_intercept\n",
    "        self.verbose = verbose\n",
    "    \n",
    "    def __add_intercept(self, X):\n",
    "        intercept = np.ones((X.shape[0], 1))\n",
    "        return np.concatenate((intercept, X), axis=1)\n",
    "    \n",
    "    def __sigmoid(self, z):\n",
    "        return 1 / (1 + np.exp(-z))\n",
    "    def __loss(self, h, y):\n",
    "        return (-y * np.log(h) - (1 - y) * np.log(1 - h)).mean()\n",
    "    \n",
    "    def fit(self, X, y):\n",
    "        if self.fit_intercept:\n",
    "            X = self.__add_intercept(X)\n",
    "        \n",
    "        # weights initialization\n",
    "        self.theta = np.zeros(X.shape[1])\n",
    "        \n",
    "        for i in range(self.num_iter):\n",
    "            z = np.dot(X, self.theta)\n",
    "            h = self.__sigmoid(z)\n",
    "            gradient = np.dot(X.T, (h - y)) / y.size\n",
    "            self.theta -= self.lr * gradient\n",
    "            \n",
    "            if(self.verbose == True and i % 10000 == 0):\n",
    "                z = np.dot(X, self.theta)\n",
    "                h = self.__sigmoid(z)\n",
    "                print(f'loss: {self.__loss(h, y)} \\t')\n",
    "    \n",
    "    def predict_prob(self, X):\n",
    "        if self.fit_intercept:\n",
    "            X = self.__add_intercept(X)\n",
    "    \n",
    "        return self.__sigmoid(np.dot(X, self.theta))\n",
    "    \n",
    "    def predict(self, X, threshold=0.5):\n",
    "        return self.predict_prob(X) >= threshold"
   ]
  },
  {
   "cell_type": "code",
   "execution_count": 7,
   "metadata": {
    "ExecuteTime": {
     "end_time": "2018-07-11T01:43:19.301739Z",
     "start_time": "2018-07-11T01:43:19.293003Z"
    }
   },
   "outputs": [],
   "source": [
    "iris = datasets.load_iris()\n",
    "X = iris.data[:, :2]\n",
    "y = (iris.target != 0) * 1"
   ]
  },
  {
   "cell_type": "code",
   "execution_count": 13,
   "metadata": {
    "ExecuteTime": {
     "end_time": "2018-07-11T01:44:24.650263Z",
     "start_time": "2018-07-11T01:44:24.646501Z"
    }
   },
   "outputs": [],
   "source": [
    "model = LogisticRegression(lr=0.1, num_iter=300000, verbose=True)"
   ]
  },
  {
   "cell_type": "code",
   "execution_count": 14,
   "metadata": {
    "ExecuteTime": {
     "end_time": "2018-07-11T01:44:30.812075Z",
     "start_time": "2018-07-11T01:44:25.127179Z"
    }
   },
   "outputs": [
    {
     "name": "stdout",
     "output_type": "stream",
     "text": [
      "loss: 0.6106419114654529 \t\n",
      "loss: 0.034452845966779125 \t\n",
      "loss: 0.028827950481251582 \t\n",
      "loss: 0.025732610280109956 \t\n",
      "loss: 0.023408681770059416 \t\n",
      "loss: 0.021498579861162267 \t\n",
      "loss: 0.01987785226325257 \t\n",
      "loss: 0.018484240100021455 \t\n",
      "loss: 0.01727703882746986 \t\n",
      "loss: 0.016225243738973726 \t\n",
      "loss: 0.015303683492572683 \t\n",
      "loss: 0.014491540946675409 \t\n",
      "loss: 0.013771574805221582 \t\n",
      "loss: 0.013129544178512894 \t\n",
      "loss: 0.012553711220013393 \t\n",
      "loss: 0.012034402808820307 \t\n",
      "loss: 0.011563633144406931 \t\n",
      "loss: 0.011134787467491972 \t\n",
      "loss: 0.010742362507503583 \t\n",
      "loss: 0.010381756421228561 \t\n",
      "loss: 0.010049100144750613 \t\n",
      "loss: 0.009741122485536836 \t\n",
      "loss: 0.009455042259083566 \t\n",
      "loss: 0.009188481905555473 \t\n",
      "loss: 0.008939398093487191 \t\n",
      "loss: 0.008706025743869906 \t\n",
      "loss: 0.008486832669767219 \t\n",
      "loss: 0.008280482635587772 \t\n",
      "loss: 0.008085805119000323 \t\n",
      "loss: 0.007901770431605002 \t\n"
     ]
    }
   ],
   "source": [
    "model.fit(X, y)"
   ]
  },
  {
   "cell_type": "code",
   "execution_count": 19,
   "metadata": {
    "ExecuteTime": {
     "end_time": "2018-07-11T02:19:51.554363Z",
     "start_time": "2018-07-11T02:19:51.550671Z"
    }
   },
   "outputs": [],
   "source": [
    "preds = model.predict(X, 0.5)"
   ]
  },
  {
   "cell_type": "code",
   "execution_count": 22,
   "metadata": {
    "ExecuteTime": {
     "end_time": "2018-07-11T02:20:43.002630Z",
     "start_time": "2018-07-11T02:20:42.996901Z"
    }
   },
   "outputs": [
    {
     "data": {
      "text/plain": [
       "array([-25.96818124,  12.56179068, -13.44549335])"
      ]
     },
     "execution_count": 22,
     "metadata": {},
     "output_type": "execute_result"
    }
   ],
   "source": [
    "model.theta"
   ]
  },
  {
   "cell_type": "code",
   "execution_count": null,
   "metadata": {},
   "outputs": [],
   "source": []
  }
 ],
 "metadata": {
  "kernelspec": {
   "display_name": "Python 3",
   "language": "python",
   "name": "python3"
  },
  "language_info": {
   "codemirror_mode": {
    "name": "ipython",
    "version": 3
   },
   "file_extension": ".py",
   "mimetype": "text/x-python",
   "name": "python",
   "nbconvert_exporter": "python",
   "pygments_lexer": "ipython3",
   "version": "3.6.5"
  },
  "toc": {
   "base_numbering": 1,
   "nav_menu": {},
   "number_sections": true,
   "sideBar": true,
   "skip_h1_title": false,
   "title_cell": "Table of Contents",
   "title_sidebar": "Contents",
   "toc_cell": false,
   "toc_position": {},
   "toc_section_display": true,
   "toc_window_display": false
  },
  "varInspector": {
   "cols": {
    "lenName": 16,
    "lenType": 16,
    "lenVar": 40
   },
   "kernels_config": {
    "python": {
     "delete_cmd_postfix": "",
     "delete_cmd_prefix": "del ",
     "library": "var_list.py",
     "varRefreshCmd": "print(var_dic_list())"
    },
    "r": {
     "delete_cmd_postfix": ") ",
     "delete_cmd_prefix": "rm(",
     "library": "var_list.r",
     "varRefreshCmd": "cat(var_dic_list()) "
    }
   },
   "types_to_exclude": [
    "module",
    "function",
    "builtin_function_or_method",
    "instance",
    "_Feature"
   ],
   "window_display": false
  }
 },
 "nbformat": 4,
 "nbformat_minor": 2
}
